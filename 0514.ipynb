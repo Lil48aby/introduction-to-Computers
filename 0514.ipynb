{
  "nbformat": 4,
  "nbformat_minor": 0,
  "metadata": {
    "colab": {
      "provenance": [],
      "authorship_tag": "ABX9TyNT92xzcVFx2V8bJGYDgupb",
      "include_colab_link": true
    },
    "kernelspec": {
      "name": "python3",
      "display_name": "Python 3"
    },
    "language_info": {
      "name": "python"
    }
  },
  "cells": [
    {
      "cell_type": "markdown",
      "metadata": {
        "id": "view-in-github",
        "colab_type": "text"
      },
      "source": [
        "<a href=\"https://colab.research.google.com/github/Lil48aby/introduction-to-Computers/blob/main/0514.ipynb\" target=\"_parent\"><img src=\"https://colab.research.google.com/assets/colab-badge.svg\" alt=\"Open In Colab\"/></a>"
      ]
    },
    {
      "cell_type": "code",
      "execution_count": 1,
      "metadata": {
        "colab": {
          "base_uri": "https://localhost:8080/"
        },
        "id": "RHt4eDqnQsEf",
        "outputId": "91808f5e-75ee-409f-8d46-62c284de0470"
      },
      "outputs": [
        {
          "output_type": "stream",
          "name": "stdout",
          "text": [
            "Hi\n"
          ]
        }
      ],
      "source": [
        "print(\"Hi\")"
      ]
    },
    {
      "cell_type": "code",
      "source": [
        "print(\"今天會下雨嗎?\")\n",
        "rain = input()\n",
        "if (rain == \"Y\" or rain == 'y'): \n",
        "  print(\"出門記得帶傘!\")\n",
        "elif (rain != \"Y\" or rain != 'y'): \n",
        "  print(\"請重新輸入\")\n",
        "else: \n",
        "  print(\"出門不用帶傘\")\n",
        "  print(\"請重新輸入\")"
      ],
      "metadata": {
        "colab": {
          "base_uri": "https://localhost:8080/"
        },
        "id": "HITJyR8aSbeH",
        "outputId": "45b8ee60-1b4c-40c1-f20f-3a0b7fbd6164"
      },
      "execution_count": 4,
      "outputs": [
        {
          "output_type": "stream",
          "name": "stdout",
          "text": [
            "今天會下雨嗎?\n",
            "y\n",
            "出門記得帶傘!\n"
          ]
        }
      ]
    },
    {
      "cell_type": "code",
      "source": [
        "score = int(input(\"請輸入體溫:\"))\n",
        "if score >= 37.5:\n",
        "    print('體溫過高')\n",
        "elif score >= 37:\n",
        "    print('體溫略高')\n",
        "elif score >= 34:\n",
        "    print('體溫正常')\n",
        "elif score < 34:\n",
        "    print('體溫異常，請重新量測')\n",
        "else: \n",
        "    print('體溫異常，請重新量測')"
      ],
      "metadata": {
        "colab": {
          "base_uri": "https://localhost:8080/"
        },
        "id": "2ARoM0l9X_DB",
        "outputId": "098d63a6-b7e7-48e6-e89f-2b07a3003aaa"
      },
      "execution_count": 13,
      "outputs": [
        {
          "output_type": "stream",
          "name": "stdout",
          "text": [
            "請輸入體溫:100\n",
            "體溫過高\n"
          ]
        }
      ]
    },
    {
      "cell_type": "code",
      "source": [
        "score = int(input(\"請輸入成績:\"))\n",
        "if score >= 90:\n",
        "    print('A')\n",
        "elif score >= 80:\n",
        "    print('B')\n",
        "elif score >= 70:\n",
        "    print('C')\n",
        "elif score >= 60:\n",
        "    print('D')\n",
        "else:\n",
        "    print('E')"
      ],
      "metadata": {
        "colab": {
          "base_uri": "https://localhost:8080/"
        },
        "id": "MASXd8YzUioh",
        "outputId": "c3b0f9df-6779-46bd-d6e2-ccba03c73fc5"
      },
      "execution_count": 7,
      "outputs": [
        {
          "output_type": "stream",
          "name": "stdout",
          "text": [
            "請輸入成績:88\n",
            "B\n"
          ]
        }
      ]
    },
    {
      "cell_type": "code",
      "source": [
        "score = int(input(\"請輸入月份:\"))\n",
        "if score == (3 or 4 or 5):\n",
        "    print('該月是春天')\n",
        "elif score == (6 or 7 or 8):\n",
        "    print('該月是夏天')\n",
        "elif score == (9 or 10 or 11):\n",
        "    print('該月是秋天')\n",
        "elif score == (12 or 1 or 2):\n",
        "    print('該月是冬天')\n",
        "else: \n",
        "    print('該月份不在範圍內!')"
      ],
      "metadata": {
        "colab": {
          "base_uri": "https://localhost:8080/"
        },
        "id": "nsLlFrC3Zfug",
        "outputId": "4b0d5a6d-3d6c-492e-d017-846c90045cee"
      },
      "execution_count": 40,
      "outputs": [
        {
          "output_type": "stream",
          "name": "stdout",
          "text": [
            "請輸入月份:10\n",
            "該月份不在範圍內!\n"
          ]
        }
      ]
    }
  ]
}