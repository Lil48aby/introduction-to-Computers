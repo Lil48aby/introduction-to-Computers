{
  "nbformat": 4,
  "nbformat_minor": 0,
  "metadata": {
    "colab": {
      "provenance": [],
      "authorship_tag": "ABX9TyPqrR7DAWVvw9EjkhcONTlk",
      "include_colab_link": true
    },
    "kernelspec": {
      "name": "python3",
      "display_name": "Python 3"
    },
    "language_info": {
      "name": "python"
    }
  },
  "cells": [
    {
      "cell_type": "markdown",
      "metadata": {
        "id": "view-in-github",
        "colab_type": "text"
      },
      "source": [
        "<a href=\"https://colab.research.google.com/github/Lil48aby/introduction-to-Computers/blob/main/0501.ipynb\" target=\"_parent\"><img src=\"https://colab.research.google.com/assets/colab-badge.svg\" alt=\"Open In Colab\"/></a>"
      ]
    },
    {
      "cell_type": "code",
      "execution_count": null,
      "metadata": {
        "colab": {
          "base_uri": "https://localhost:8080/"
        },
        "id": "ebENAq-rVPSJ",
        "outputId": "8bd03f94-bf0b-4013-a602-e87a40578147"
      },
      "outputs": [
        {
          "output_type": "stream",
          "name": "stdout",
          "text": [
            "Hello world\n"
          ]
        }
      ],
      "source": [
        "print(\"Hello world\")"
      ]
    },
    {
      "cell_type": "code",
      "source": [
        "a = float(input('請輸入華氏溫度:'))\n",
        "b = (a-32) * 5 / 9\n",
        "print(\"攝氏溫度=\"'%.1f' % b)"
      ],
      "metadata": {
        "colab": {
          "base_uri": "https://localhost:8080/"
        },
        "id": "UUC5JTERWhS8",
        "outputId": "2b978b26-3324-4bd0-fe29-7119e7ee4116"
      },
      "execution_count": null,
      "outputs": [
        {
          "output_type": "stream",
          "name": "stdout",
          "text": [
            "請輸入華氏溫度:100\n",
            "攝氏溫度=37.8\n"
          ]
        }
      ]
    },
    {
      "cell_type": "code",
      "source": [
        "A=5\n",
        "for i in range(5) :\n",
        "  A = A+i\n",
        "print(A)"
      ],
      "metadata": {
        "colab": {
          "base_uri": "https://localhost:8080/"
        },
        "id": "9JRl5yzBbOT9",
        "outputId": "9291409f-7e6f-45e3-8b9e-3ca661856f7f"
      },
      "execution_count": null,
      "outputs": [
        {
          "output_type": "stream",
          "name": "stdout",
          "text": [
            "15\n"
          ]
        }
      ]
    },
    {
      "cell_type": "code",
      "source": [
        "a = float(input('請輸入本金存款金額:'))\n",
        "b = a*1.02**6\n",
        "print(\"六年後存款為:\",b)"
      ],
      "metadata": {
        "colab": {
          "base_uri": "https://localhost:8080/"
        },
        "id": "IYaVkXSUVFQy",
        "outputId": "db502bbb-0c41-4f12-aa9c-ad2c53a526d4"
      },
      "execution_count": 1,
      "outputs": [
        {
          "output_type": "stream",
          "name": "stdout",
          "text": [
            "請輸入本金存款金額:10000\n",
            "六年後存款為: 11261.62419264\n"
          ]
        }
      ]
    }
  ]
}